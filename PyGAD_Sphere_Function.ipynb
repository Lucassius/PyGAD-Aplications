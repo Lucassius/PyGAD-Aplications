{
  "nbformat": 4,
  "nbformat_minor": 0,
  "metadata": {
    "colab": {
      "provenance": [],
      "authorship_tag": "ABX9TyNmEujC62s/0mYEAMCUhPqQ",
      "include_colab_link": true
    },
    "kernelspec": {
      "name": "python3",
      "display_name": "Python 3"
    },
    "language_info": {
      "name": "python"
    }
  },
  "cells": [
    {
      "cell_type": "markdown",
      "metadata": {
        "id": "view-in-github",
        "colab_type": "text"
      },
      "source": [
        "<a href=\"https://colab.research.google.com/github/Lucassius/PyGAD-Aplications/blob/main/PyGAD_Sphere_Function.ipynb\" target=\"_parent\"><img src=\"https://colab.research.google.com/assets/colab-badge.svg\" alt=\"Open In Colab\"/></a>"
      ]
    },
    {
      "cell_type": "markdown",
      "source": [
        "# Utilização da Biblioteca PyGAD - Python Genetic Algorithm\n",
        "\n",
        "PyGAD is an open-source Python library for building the genetic algorithm and optimizing machine learning algorithms. It works with Keras and PyTorch."
      ],
      "metadata": {
        "id": "Ccgs3uymraRd"
      }
    },
    {
      "cell_type": "markdown",
      "source": [
        "# Implementação e otimização da Sphere Function\n",
        "\n",
        "Neste código foi utilizado a biblioteca PyGAD para encontrar o valor mínimo da função.\n"
      ],
      "metadata": {
        "id": "gPXS61g4zO8b"
      }
    },
    {
      "cell_type": "code",
      "source": [
        "import pygad\n",
        "import numpy\n",
        "\n",
        "#Implementation and Optimization of Sphere Function\n",
        "\n",
        "def Sphere_Function(solution):\n",
        "    soma = 0\n",
        "    for value in solution:\n",
        "        soma += value ** 2\n",
        "    return soma\n",
        "\n",
        "\n",
        "def fitness_function(ga_instance, solution, solution_idx):\n",
        "    return 1.0 / (Sphere_Function(solution) + 0.000001)\n",
        "\n",
        "\n",
        "num_generations = 1000\n",
        "num_parents_mating = 8\n",
        "sol_per_pop = 8\n",
        "num_genes = 2\n",
        "\n",
        "\n",
        "init_range_low = 0\n",
        "init_range_high = 5\n",
        "\n",
        "parent_selection_type = \"sss\"\n",
        "keep_parents = 1\n",
        "\n",
        "crossover_type = \"single_point\"\n",
        "\n",
        "mutation_type = \"random\"\n",
        "mutation_percent_genes = 10\n",
        "\n",
        "\n",
        "ga_instance = pygad.GA(num_generations=num_generations,\n",
        "                       num_parents_mating=num_parents_mating,\n",
        "                       fitness_func=fitness_function,\n",
        "                       sol_per_pop=sol_per_pop,\n",
        "                       num_genes=num_genes,\n",
        "                       init_range_low=init_range_low,\n",
        "                       init_range_high=init_range_high)\n",
        "\n",
        "\n",
        "solution, solution_fitness, solution_idx = ga_instance.best_solution()\n",
        "ga_instance.run()\n",
        "\n",
        "print(\"Valor mínimo da Sphere Function:\", solution_fitness)\n",
        "print(\"Coordenadas da solução:\", solution)\n",
        "print('\\n\\n')\n"
      ],
      "metadata": {
        "colab": {
          "base_uri": "https://localhost:8080/"
        },
        "id": "BpJg619Bow8N",
        "outputId": "505bb143-9910-41d4-a5b9-9bf4bf63c85a"
      },
      "execution_count": null,
      "outputs": [
        {
          "output_type": "stream",
          "name": "stdout",
          "text": [
            "Valor mínimo da Sphere Function: 0.18329011178318097\n",
            "Coordenadas da solução: [1.80545923 1.4819405 ]\n",
            "\n",
            "\n",
            "\n"
          ]
        }
      ]
    }
  ]
}